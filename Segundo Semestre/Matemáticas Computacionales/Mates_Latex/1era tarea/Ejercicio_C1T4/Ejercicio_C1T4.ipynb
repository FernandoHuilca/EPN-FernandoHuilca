{
  "cells": [
    {
      "cell_type": "raw",
      "metadata": {},
      "source": [
        "---\n",
        "title: \"Ejercicio_C1T4\"\n",
        "author: \"Fernando Huilca\"\n",
        "toc: true\n",
        "toc-title: \"Contenido\"\n",
        "number-sections: true\n",
        "highlight-style: pygments\n",
        "format: \n",
        "  html:\n",
        "    code-fold: true\n",
        "    embed-resources: true\n",
        "    html-math-method: katex\n",
        "  pdf:\n",
        "    code-line-numbers: true\n",
        "    geometry: \n",
        "        - top = 30mm\n",
        "        - left = 30mm\n",
        "  docx: default \n",
        "---"
      ],
      "id": "8e2abff8"
    },
    {
      "cell_type": "markdown",
      "metadata": {},
      "source": [
        "# Ejercicio 32 - Lógica y demostraciones\n",
        "\n",
        "32.  Formule la expresión simbólica en palabras usando:\n",
        "```{ql}\n",
        "p: Hoy es lunes.\n",
        "q: Está lloviendo.\n",
        "r: Hace calor.\n",
        "\n",
        "p \\rightarrow q: Si hoy es lunes, entonces está lloviendo.\n",
        "\n",
        "# EJERCICIO C1T4 (Stalin Anrango)\n",
        "\n",
        "Suponiendo que p y r son falsas y que q y s son verdaderas, encuentre el valor de verdad para cada proposición en los ejercicios 10 al 17.\n",
        "\n",
        "## Ejercicio 17\n",
        "\n",
        "La proposición dada es (( p ∧¬q) → (q ∧ r )) → (s ∨¬q).\n",
        "\n",
        "\n",
        "| Proposición | Valor de verdad |\n",
        "|-------------|-----------------|\n",
        "| p           | Falso           |\n",
        "| ¬q          | Falso           |\n",
        "| p ∧¬q       | Falso           |\n",
        "| q           | Verdadero       |\n",
        "| r           | Falso           |\n",
        "| q ∧ r       | Falso           |\n",
        "| ( p ∧¬q) → (q ∧ r ) | Verdadero |\n",
        "| s           | Verdadero       |\n",
        "| ¬q          | Falso           |\n",
        "| s ∨¬q       | Verdadero       |\n",
        "| (( p ∧¬q) → (q ∧ r )) → (s ∨¬q) | Verdadero |\n",
        "\n",
        "Por lo tanto, la proposición (( p ∧¬q) → (q ∧ r )) → (s ∨¬q) es **verdadera**."
      ],
      "id": "cd477719"
    }
  ],
  "metadata": {
    "kernelspec": {
      "display_name": "Python 3",
      "language": "python",
      "name": "python3"
    }
  },
  "nbformat": 4,
  "nbformat_minor": 5
}